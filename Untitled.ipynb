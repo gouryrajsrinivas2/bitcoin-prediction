{
 "cells": [
  {
   "cell_type": "code",
   "execution_count": 122,
   "metadata": {},
   "outputs": [
    {
     "data": {
      "text/plain": [
       "<Figure size 720x720 with 0 Axes>"
      ]
     },
     "metadata": {},
     "output_type": "display_data"
    },
    {
     "name": "stdout",
     "output_type": "stream",
     "text": [
      "score: 0.9999527004739662\n"
     ]
    }
   ],
   "source": [
    "import pandas as pd\n",
    "import numpy as np\n",
    "import matplotlib.pyplot as plt\n",
    "from sklearn.model_selection import RepeatedKFold\n",
    "from sklearn import linear_model\n",
    "from sklearn.model_selection import train_test_split\n",
    "dataset=pd.read_csv('bitcoin_cash_price.csv')\n",
    "dataset.head()\n",
    "dataset.drop(dataset.index[[203,204,205,206,207,208,209,210,211,212]],inplace=True)\n",
    "#print(dataset.dtypes)\n",
    "dataset[\"Volume\"] = dataset[\"Volume\"].str.replace(\",\",\"\").astype(float)\n",
    "#print(dataset.dtypes)\n",
    "dataset[\"Market Cap\"] = dataset[\"Market Cap\"].str.replace(\",\",\"\").astype(float)\n",
    "dataset.rename(columns={\"Market Cap\":\"Marketcap\"},inplace=True)\n",
    "#print(dataset)\n",
    "#dataset['Marketcap'] = dataset.Marketcap.astype(float)\n",
    "#print(type(dataset['Marketcap']))\n",
    "#pd.to_numeric(dataset[\"Market Cap\"], errors='coerce')\n",
    "#dataset[\"Market Cap\"]=dataset[\"Market Cap\"].astype('float64',raise_on_error = False)\n",
    "#re.sub('[\\$,]', '',dataset['Volume'])\n",
    "##print(dataset['Marketcap'])\n",
    "#x=[1,5,4,2]\n",
    "#plt.plot(x)\n",
    "#print(dataset['Volume'])\n",
    "plt.figure(figsize=(10,10))\n",
    "##plt.scatter(dataset['Volume'],dataset['Marketcap'])\n",
    "##plt.plot(dataset['Marketcap'])\n",
    "#plt.ylabel(\"volume\")\n",
    "plt.show()\n",
    "#marketcap=[dataset['Market Cap']]\n",
    "#print(type(marketcap))\n",
    "#date=[dataset['Date']]\n",
    "#plt(marketcap)\n",
    "#plt.xticks(range(len(date)), date)\n",
    "#plt.show()\n",
    "array = dataset.values\n",
    "X = array[:,1:6]\n",
    "Y = array[:,6]\n",
    "test_size = 0.3\n",
    "X_train, X_test, Y_train, Y_test = train_test_split(X, Y, test_size=test_size)\n",
    "lm = linear_model.LinearRegression()\n",
    "model = lm.fit(X_train, Y_train)\n",
    "print('score:', model.score(X_test, Y_test))\n",
    "#rkf=RepeatedKFold(n_splits=10, n_repeats=5, random_state=None)\n",
    "#for train_index, test_index in rkf.split(X):\n",
    "    #X_train, X_test = X[train_index], X[test_index]\n",
    "    #y_train, y_test = y[train_index], y[test_index]\n",
    "    #model = lm.fit(X_train, y_train)\n",
    "    #print('score:', model.score(X_test, y_test))\n",
    "\n",
    "    "
   ]
  },
  {
   "cell_type": "code",
   "execution_count": null,
   "metadata": {},
   "outputs": [],
   "source": []
  }
 ],
 "metadata": {
  "kernelspec": {
   "display_name": "Python 3",
   "language": "python",
   "name": "python3"
  },
  "language_info": {
   "codemirror_mode": {
    "name": "ipython",
    "version": 3
   },
   "file_extension": ".py",
   "mimetype": "text/x-python",
   "name": "python",
   "nbconvert_exporter": "python",
   "pygments_lexer": "ipython3",
   "version": "3.6.5"
  }
 },
 "nbformat": 4,
 "nbformat_minor": 2
}
